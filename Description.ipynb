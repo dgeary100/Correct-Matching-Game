{
 "cells": [
  {
   "cell_type": "markdown",
   "source": [
    "Your Application Title :\n",
    "WildCard\n",
    "Your information:\n",
    "Devon Geary\n",
    "Intermediate Python\n",
    "Project type:\n",
    "Game\n",
    "Description of Application:\n",
    "\tYou start in a forest scene, with several objects in front of you. Each object represents a new level of a matching game. The matching games have a theme based on the object representing them. The levels start at 6 cards and go up by 3 matches. Once your score hits the total number of matches, you are brought back to the forest to pick your next level.\n",
    "\n",
    "Altered: Card game where the goal is to match the cards. It is a two player game, and you use the Q and O keys to flip a card from your pile, if your card matches the card on the top of the pile, then you press W or P, whichever is closer to your assigned key, to call a win. The game will identify a false win, if you press it on accident. After the pile runs out, the game ends. The goal is speed and accuracy.\n",
    "Usage: Entertainment\n",
    "\n",
    "\n",
    "Contributing Packages:\n",
    "Pygame\n",
    "\n",
    "\n",
    "\n"
   ],
   "metadata": {
    "collapsed": false
   }
  }
 ],
 "metadata": {
  "kernelspec": {
   "display_name": "Python 3",
   "language": "python",
   "name": "python3"
  },
  "language_info": {
   "codemirror_mode": {
    "name": "ipython",
    "version": 2
   },
   "file_extension": ".py",
   "mimetype": "text/x-python",
   "name": "python",
   "nbconvert_exporter": "python",
   "pygments_lexer": "ipython2",
   "version": "2.7.6"
  }
 },
 "nbformat": 4,
 "nbformat_minor": 0
}
